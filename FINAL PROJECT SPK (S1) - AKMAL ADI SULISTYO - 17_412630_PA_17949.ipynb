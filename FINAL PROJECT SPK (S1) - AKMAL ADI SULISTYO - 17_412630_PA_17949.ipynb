{
 "cells": [
  {
   "cell_type": "markdown",
   "metadata": {},
   "source": [
    "List Kriteria<br>\n",
    "C1: Cara bicara,<br>\n",
    "C2: Etika,<br>\n",
    "C3: Semangat,<br>\n",
    "C4: Permintaan gaji,<br>\n",
    "C5: Wibawa,<br>\n",
    "C6: Pengalaman kerja,<br>\n",
    "C7: Cara berpenampilan,<br>\n",
    "C8: Besar motivasi untuk diterima,<br>\n",
    "C9: Perencanaan kehidupan,<br>\n",
    "C10: Pengetahuan tentang perusahaan."
   ]
  },
  {
   "cell_type": "code",
   "execution_count": 44,
   "metadata": {},
   "outputs": [],
   "source": [
    "import numpy as np\n",
    "import math\n",
    "import csv"
   ]
  },
  {
   "cell_type": "markdown",
   "metadata": {},
   "source": [
    "# Cari Perbandingan Berpasangan"
   ]
  },
  {
   "cell_type": "code",
   "execution_count": 45,
   "metadata": {},
   "outputs": [],
   "source": [
    "def perbandingan(nama, c):\n",
    "    n_c = len(c)\n",
    "    perbandingan = np.ones((n_c, n_c))\n",
    "\n",
    "    print('Tentukan Prioritas dari kriteria-kriteria berikut:')\n",
    "    for row in range(n_c-1):\n",
    "        for col in range(row+1, n_c):\n",
    "            print('Mana yang lebih penting, 1:', c[row],'2:',c[col])\n",
    "\n",
    "            while True:\n",
    "                penting = int(input())\n",
    "                if penting==1 or penting==2:\n",
    "                    break\n",
    "                else:\n",
    "                    print('input salah')\n",
    "\n",
    "            while True:\n",
    "                tmp = int(input('Berapa kali lebih penting?(isi dengan bilangan antara 2-9)'))\n",
    "                if tmp>2 and tmp<9:\n",
    "                    break\n",
    "                else:\n",
    "                    print('input salah')\n",
    "\n",
    "            if penting==1:\n",
    "                perbandingan[row,col] = tmp\n",
    "                perbandingan[col,row] = 1/perbandingan[row,col]\n",
    "\n",
    "            if penting==2:\n",
    "                perbandingan[col,row] = tmp\n",
    "                perbandingan[row,col] = 1/perbandingan[col,row]\n",
    "    \n",
    "    path = 'C:/Users/KingMaldio/Desktop/Final Project SPK/' + nama + '.csv'\n",
    "    with open(path, 'w+') as myfile:\n",
    "        wr = csv.writer(myfile, quoting=csv.QUOTE_ALL)\n",
    "        wr.writerow(perbandingan)\n",
    "    \n",
    "    return perbandingan"
   ]
  },
  {
   "cell_type": "markdown",
   "metadata": {},
   "source": [
    "# AHP"
   ]
  },
  {
   "cell_type": "code",
   "execution_count": 23,
   "metadata": {},
   "outputs": [],
   "source": [
    "def ahp(ahp):\n",
    "    norm = normalize_ahp(ahp)\n",
    "    weight = eigen_vector(norm)\n",
    "    consistent = consistency_check(norm, weight)\n",
    "    \n",
    "    if consistent:\n",
    "        return weight\n",
    "    else: print(\"Matriks AHP tidak konsisten\")"
   ]
  },
  {
   "cell_type": "code",
   "execution_count": 24,
   "metadata": {},
   "outputs": [],
   "source": [
    "def normalize_ahp(ahp):\n",
    "    norm = []\n",
    "    \n",
    "    for row in range(len(ahp)):\n",
    "        for col in range(ahp[0].shape[0]):\n",
    "            sums = sum(ahp[:,col])\n",
    "            norm.append(ahp[row][col]/sums)\n",
    "\n",
    "    norm = np.asarray(norm)\n",
    "    norm = norm.reshape(ahp.shape)\n",
    "\n",
    "    return norm"
   ]
  },
  {
   "cell_type": "code",
   "execution_count": 25,
   "metadata": {},
   "outputs": [],
   "source": [
    "def eigen_vector(norm):\n",
    "    weight = []\n",
    "    \n",
    "    for row in range(len(norm)):\n",
    "        sums = sum(norm[row,:])\n",
    "        weight.append(sums/len(norm))\n",
    "    \n",
    "    weight = np.asarray(weight)\n",
    "    return weight"
   ]
  },
  {
   "cell_type": "code",
   "execution_count": 26,
   "metadata": {},
   "outputs": [],
   "source": [
    "def consistency_check(norm, weight):\n",
    "    ri = [0,0,0.58,0.9,1.12,1.24,1.32,1.41,1.45,1.49,1.51,1.48,1.56,1.57,1.59]\n",
    "\n",
    "    dot = np.dot(norm, weight)\n",
    "    \n",
    "    for i in range(len(dot)):\n",
    "        dot[i] = dot[i]/weight[i]\n",
    "    \n",
    "    lamda = sum(dot)/len(dot)\n",
    "    \n",
    "    ci = lamda-len(dot)/(len(dot)-1)\n",
    "    batas = ri[len(dot)]\n",
    "    cr = ci/batas\n",
    "    \n",
    "    if cr>0.1:\n",
    "        return False\n",
    "    \n",
    "    return True"
   ]
  },
  {
   "cell_type": "markdown",
   "metadata": {},
   "source": [
    "# TOPSIS"
   ]
  },
  {
   "cell_type": "code",
   "execution_count": 27,
   "metadata": {},
   "outputs": [],
   "source": [
    "def topsis(nilai, weight, flag):\n",
    "    norm = normalize_topsis(nilai)\n",
    "    weighted_norm = weighting(norm, weight)\n",
    "    \n",
    "    ideal_pos, ideal_neg = ideal(weighted_norm, flag)\n",
    "\n",
    "    d_pos = dist(weighted_norm, ideal_pos)\n",
    "    d_neg = dist(weighted_norm, ideal_neg)\n",
    "\n",
    "    rating = v(d_pos, d_neg)\n",
    "    \n",
    "    return rating"
   ]
  },
  {
   "cell_type": "code",
   "execution_count": 28,
   "metadata": {},
   "outputs": [],
   "source": [
    "def normalize_topsis(nilai):\n",
    "    tmp = []\n",
    "    tmp = nilai**2\n",
    "    norm = np.zeros(nilai.shape)\n",
    "    \n",
    "    for col in range(nilai[0].shape[0]):\n",
    "        sums = sum(tmp[:,col])\n",
    "        akar = math.sqrt(sums)\n",
    "        for row in range(len(nilai)):\n",
    "            norm[row,col] = nilai[row,col]/akar\n",
    "            \n",
    "    return norm"
   ]
  },
  {
   "cell_type": "code",
   "execution_count": 29,
   "metadata": {},
   "outputs": [],
   "source": [
    "def weighting(norm, weight):\n",
    "    weighted = np.zeros(norm.shape)\n",
    "    \n",
    "    for row in range(len(norm)):\n",
    "        for col in range(norm[0].shape[0]):\n",
    "            weighted[row,col] = norm[row,col] * weight[col]\n",
    "    \n",
    "    return weighted"
   ]
  },
  {
   "cell_type": "code",
   "execution_count": 30,
   "metadata": {},
   "outputs": [],
   "source": [
    "def ideal(w_norm, flag):\n",
    "    ideal_pos = np.zeros(flag.shape)\n",
    "    ideal_neg = np.zeros(flag.shape)\n",
    "    \n",
    "    for i in range(len(flag)):\n",
    "        if flag[i]==1:\n",
    "            ideal_pos[i] =  max(w_norm[:,i])\n",
    "            ideal_neg[i] =  min(w_norm[:,i])\n",
    "        if flag[i]==0:\n",
    "            ideal_pos[i] =  min(w_norm[:,i])\n",
    "            ideal_neg[i] =  max(w_norm[:,i])\n",
    "    return ideal_pos, ideal_neg"
   ]
  },
  {
   "cell_type": "code",
   "execution_count": 31,
   "metadata": {},
   "outputs": [],
   "source": [
    "def dist(w_norm, ideal):\n",
    "    diff = np.zeros(w_norm.shape)\n",
    "    distance = np.zeros(len(w_norm))\n",
    "\n",
    "    for row in range(len(w_norm)):\n",
    "        for col in range(w_norm[0].shape[0]):\n",
    "            tmp = w_norm[row,col] - ideal[col]\n",
    "            diff[row,col] = tmp**2\n",
    "\n",
    "        sums = sum(diff[row,:])\n",
    "        distance[row] = math.sqrt(sums)\n",
    "\n",
    "    return distance"
   ]
  },
  {
   "cell_type": "code",
   "execution_count": 32,
   "metadata": {},
   "outputs": [],
   "source": [
    "def v(d_pos, d_neg):\n",
    "    v = np.zeros(d_pos.shape)\n",
    "    \n",
    "    for i in range(len(d_pos)):\n",
    "        v[i] = d_neg[i]/(d_neg[i]+d_pos[i])\n",
    "    \n",
    "    return v"
   ]
  },
  {
   "cell_type": "markdown",
   "metadata": {},
   "source": [
    "# SAW GDSS"
   ]
  },
  {
   "cell_type": "code",
   "execution_count": 33,
   "metadata": {},
   "outputs": [],
   "source": [
    "def combine(rating, dm_weight):\n",
    "    res = (rating[0]*dm_weight[0]+rating[1]*dm_weight[1])*100\n",
    "    rank = ranking(res)\n",
    "    \n",
    "    rank, no_kandidat, hasil = sort(rank, res)\n",
    "    \n",
    "    rekomendasi = [*rank, *no_kandidat, *hasil]\n",
    "    rekomendasi = np.asarray(rekomendasi)\n",
    "    rekomendasi = rekomendasi.reshape(-1, len(rank)).transpose()\n",
    "    \n",
    "    return rekomendasi"
   ]
  },
  {
   "cell_type": "code",
   "execution_count": 34,
   "metadata": {},
   "outputs": [],
   "source": [
    "def ranking(res):\n",
    "    rank = np.ones(len(res))\n",
    "    \n",
    "    for i in range(len(res)):\n",
    "        if i==len(res):\n",
    "            break\n",
    "            \n",
    "        for j in range(i+1, len(res)):\n",
    "            if res[i]<res[j]:\n",
    "                rank[i]+=1\n",
    "            else: \n",
    "                rank[j]+=1\n",
    "            \n",
    "    return rank"
   ]
  },
  {
   "cell_type": "code",
   "execution_count": 35,
   "metadata": {},
   "outputs": [],
   "source": [
    "def sort(rank, res):\n",
    "    no_kandidat = np.arange(1, len(rank)+1)\n",
    "    for i in range(len(rank)):\n",
    "        if i==len(rank):\n",
    "            break\n",
    "            \n",
    "        for j in range(i+1, len(rank)):\n",
    "            if rank[i]>rank[j]:\n",
    "                rank[i], rank[j] = rank[j], rank[i]\n",
    "                no_kandidat[i], no_kandidat[j] = no_kandidat[j], no_kandidat[i]\n",
    "                res[i], res[j] = res[j], res[i]\n",
    "    \n",
    "    return rank, no_kandidat, res"
   ]
  },
  {
   "cell_type": "code",
   "execution_count": 36,
   "metadata": {},
   "outputs": [],
   "source": [
    "def penjelasan(rekomendasi):\n",
    "    print(\"Berdasarkan perhitungan, Sistem merekomendasikan kandidat dengan urutan sebagai berikut:\")\n",
    "    for row in rekomendasi:\n",
    "        print(int(row[0]), ':\\tkandidat no. ', int(row[1]), 'dengan presentase:', float(\"{:.2f}\".format(row[2])))"
   ]
  },
  {
   "cell_type": "markdown",
   "metadata": {},
   "source": [
    "# Input User"
   ]
  },
  {
   "cell_type": "code",
   "execution_count": 37,
   "metadata": {},
   "outputs": [],
   "source": [
    "def import_data(path):\n",
    "    data = np.genfromtxt(path, delimiter=',')\n",
    "    data = np.delete(data,(0), axis=0)\n",
    "    data = np.delete(data,(0), axis=1)\n",
    "    \n",
    "    return data"
   ]
  },
  {
   "cell_type": "code",
   "execution_count": 38,
   "metadata": {},
   "outputs": [],
   "source": [
    "# input nilai wawancara dan bahan AHP\n",
    "x_nilai = \"C:/Users/KingMaldio/Desktop/Final Project SPK/nilai random tes wawancara.csv\"\n",
    "x_flag = \"C:/Users/KingMaldio/Desktop/Final Project SPK/flag.csv\"\n",
    "nilai = import_data(x_nilai)\n",
    "flag = import_data(x_flag)\n",
    "flag = flag.flatten()"
   ]
  },
  {
   "cell_type": "code",
   "execution_count": 41,
   "metadata": {},
   "outputs": [
    {
     "name": "stdout",
     "output_type": "stream",
     "text": [
      "apakah sudah memiliki data perbandingan kriteria?(y/n)y\n"
     ]
    }
   ],
   "source": [
    "x = input('apakah sudah memiliki data perbandingan kriteria?(y/n)')\n",
    "while True:\n",
    "    if x=='y':\n",
    "        x_ahp_bos = \"C:/Users/KingMaldio/Desktop/Final Project SPK/matriks ahp bos.csv\"\n",
    "        x_ahp_hrd = \"C:/Users/KingMaldio/Desktop/Final Project SPK/matriks ahp hrd.csv\"\n",
    "        ahp_bos = import_data(x_ahp_bos)\n",
    "        ahp_hrd = import_data(x_ahp_hrd)\n",
    "        break\n",
    "        \n",
    "    elif x=='n':\n",
    "        c = ['Cara bicara', 'Etika', 'Semangat', 'Permintaan gaji', 'Wibawa',\n",
    "             'Pengalaman kerja','Cara berpenampilan', 'Besar motivasi untuk diterima',\n",
    "             'Perencanaan kehidupan', 'Pengetahuan tentang perusahaan']\n",
    "        print('Preferensi Direktur:')\n",
    "        ahp_bos = perbandingan(c)\n",
    "        ahp_bos = np.asarray(ahp_bos)\n",
    "        print('Preferensi Manajer HRD:')\n",
    "        ahp_hrd = perbandingan(c)\n",
    "        ahp_hrd = np.asarray(ahp_hrd)\n",
    "        break\n",
    "    \n",
    "    else:\n",
    "        print('input salah')"
   ]
  },
  {
   "cell_type": "markdown",
   "metadata": {},
   "source": [
    "# Main Program"
   ]
  },
  {
   "cell_type": "code",
   "execution_count": 42,
   "metadata": {},
   "outputs": [
    {
     "name": "stdout",
     "output_type": "stream",
     "text": [
      "Berdasarkan perhitungan, Sistem merekomendasikan kandidat dengan urutan sebagai berikut:\n",
      "1 :\tkandidat no.  4 dengan presentase: 74.31\n",
      "2 :\tkandidat no.  2 dengan presentase: 56.89\n",
      "3 :\tkandidat no.  1 dengan presentase: 38.74\n",
      "4 :\tkandidat no.  3 dengan presentase: 27.9\n",
      "5 :\tkandidat no.  5 dengan presentase: 24.52\n"
     ]
    }
   ],
   "source": [
    "# urutan = bos, hrd\n",
    "dm_weight = [0.6, 0.4]\n",
    "\n",
    "w = []\n",
    "rating = []\n",
    "\n",
    "w.append(ahp(ahp_bos))\n",
    "w.append(ahp(ahp_hrd))\n",
    "\n",
    "rating.append(topsis(nilai, w[0], flag))\n",
    "rating.append(topsis(nilai, w[1], flag))\n",
    "\n",
    "rekomendasi = combine(rating, dm_weight)\n",
    "\n",
    "penjelasan(rekomendasi)"
   ]
  }
 ],
 "metadata": {
  "kernelspec": {
   "display_name": "Python 3",
   "language": "python",
   "name": "python3"
  },
  "language_info": {
   "codemirror_mode": {
    "name": "ipython",
    "version": 3
   },
   "file_extension": ".py",
   "mimetype": "text/x-python",
   "name": "python",
   "nbconvert_exporter": "python",
   "pygments_lexer": "ipython3",
   "version": "3.7.4"
  }
 },
 "nbformat": 4,
 "nbformat_minor": 4
}
